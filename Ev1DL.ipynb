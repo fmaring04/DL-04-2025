{
  "nbformat": 4,
  "nbformat_minor": 0,
  "metadata": {
    "colab": {
      "provenance": [],
      "authorship_tag": "ABX9TyPB1Uw6xnYI8ngqfQKN6r5/",
      "include_colab_link": true
    },
    "kernelspec": {
      "name": "python3",
      "display_name": "Python 3"
    },
    "language_info": {
      "name": "python"
    }
  },
  "cells": [
    {
      "cell_type": "markdown",
      "metadata": {
        "id": "view-in-github",
        "colab_type": "text"
      },
      "source": [
        "<a href=\"https://colab.research.google.com/github/fmaring04/DL-04-2025/blob/main/Ev1DL.ipynb\" target=\"_parent\"><img src=\"https://colab.research.google.com/assets/colab-badge.svg\" alt=\"Open In Colab\"/></a>"
      ]
    },
    {
      "cell_type": "markdown",
      "source": [
        "# Introducción al problema"
      ],
      "metadata": {
        "id": "owSNkSRp67jd"
      }
    },
    {
      "cell_type": "markdown",
      "source": [
        "# Carga y preprocesamiento de datos"
      ],
      "metadata": {
        "id": "2SVMtqIf7AX2"
      }
    },
    {
      "cell_type": "markdown",
      "source": [
        "# Definición del modelo (arquitectura MLP)"
      ],
      "metadata": {
        "id": "vj_cg3M87ESv"
      }
    },
    {
      "cell_type": "markdown",
      "source": [
        "# Entrenamiento y ajuste de hiperparámetros"
      ],
      "metadata": {
        "id": "KSaN-3_T7gTE"
      }
    },
    {
      "cell_type": "markdown",
      "source": [
        "# Evaluación con métricas"
      ],
      "metadata": {
        "id": "EYKfR0uH7guG"
      }
    },
    {
      "cell_type": "markdown",
      "source": [
        "# Análisis y mejora del modelo"
      ],
      "metadata": {
        "id": "lRSch-Ck7jeV"
      }
    },
    {
      "cell_type": "markdown",
      "source": [
        "# Conclusiones"
      ],
      "metadata": {
        "id": "3mGRWByT7kAV"
      }
    }
  ]
}